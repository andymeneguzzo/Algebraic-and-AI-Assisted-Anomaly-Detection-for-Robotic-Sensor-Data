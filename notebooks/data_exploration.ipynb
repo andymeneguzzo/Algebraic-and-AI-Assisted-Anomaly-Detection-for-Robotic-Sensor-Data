{
 "cells": [
  {
   "cell_type": "markdown",
   "id": "b65107c1",
   "metadata": {},
   "source": [
    "# Algebraic and AI-Assisted Anomaly Detection for Robotic Sensor Data"
   ]
  },
  {
   "cell_type": "markdown",
   "id": "3f57665e",
   "metadata": {},
   "source": [
    "## Data Exploration\n",
    "\n",
    "- Explore all 5 robotic failure datasets\n",
    "- Understand features, dimensions, missing vals, basic statistics\n",
    "- Find correlations, anomalies and sensor behaviour patterns\n",
    "- Normalize data to avoid scale inconsistency that can interfere with anomaly detection correctness\n",
    "- Save cleaned data (/data/cleaned) and normalized data (/data/normalized)"
   ]
  },
  {
   "cell_type": "code",
   "execution_count": 18,
   "id": "2dc82132",
   "metadata": {},
   "outputs": [
    {
     "name": "stdout",
     "output_type": "stream",
     "text": [
      "[INFO] lp1: 1320 sample x 6 features\n",
      "[INFO] lp2: 705 sample x 6 features\n",
      "[INFO] lp3: 705 sample x 6 features\n",
      "[INFO] lp4: 1755 sample x 6 features\n",
      "[INFO] lp5: 2460 sample x 6 features\n",
      "\n",
      "lp1 - First rows\n"
     ]
    },
    {
     "data": {
      "application/vnd.microsoft.datawrangler.viewer.v0+json": {
       "columns": [
        {
         "name": "index",
         "rawType": "int64",
         "type": "integer"
        },
        {
         "name": "column_a",
         "rawType": "int64",
         "type": "integer"
        },
        {
         "name": "column_b",
         "rawType": "int64",
         "type": "integer"
        },
        {
         "name": "column_c",
         "rawType": "int64",
         "type": "integer"
        },
        {
         "name": "column_d",
         "rawType": "int64",
         "type": "integer"
        },
        {
         "name": "column_e",
         "rawType": "int64",
         "type": "integer"
        },
        {
         "name": "column_f",
         "rawType": "int64",
         "type": "integer"
        }
       ],
       "ref": "39c931d7-b3de-42e7-9116-503e206f71e2",
       "rows": [
        [
         "0",
         "-1",
         "-1",
         "63",
         "-3",
         "-1",
         "0"
        ],
        [
         "1",
         "0",
         "0",
         "62",
         "-3",
         "-1",
         "0"
        ],
        [
         "2",
         "-1",
         "-1",
         "61",
         "-3",
         "0",
         "0"
        ],
        [
         "3",
         "-1",
         "-1",
         "63",
         "-2",
         "-1",
         "0"
        ],
        [
         "4",
         "-1",
         "-1",
         "63",
         "-3",
         "-1",
         "0"
        ]
       ],
       "shape": {
        "columns": 6,
        "rows": 5
       }
      },
      "text/html": [
       "<div>\n",
       "<style scoped>\n",
       "    .dataframe tbody tr th:only-of-type {\n",
       "        vertical-align: middle;\n",
       "    }\n",
       "\n",
       "    .dataframe tbody tr th {\n",
       "        vertical-align: top;\n",
       "    }\n",
       "\n",
       "    .dataframe thead th {\n",
       "        text-align: right;\n",
       "    }\n",
       "</style>\n",
       "<table border=\"1\" class=\"dataframe\">\n",
       "  <thead>\n",
       "    <tr style=\"text-align: right;\">\n",
       "      <th></th>\n",
       "      <th>column_a</th>\n",
       "      <th>column_b</th>\n",
       "      <th>column_c</th>\n",
       "      <th>column_d</th>\n",
       "      <th>column_e</th>\n",
       "      <th>column_f</th>\n",
       "    </tr>\n",
       "  </thead>\n",
       "  <tbody>\n",
       "    <tr>\n",
       "      <th>0</th>\n",
       "      <td>-1</td>\n",
       "      <td>-1</td>\n",
       "      <td>63</td>\n",
       "      <td>-3</td>\n",
       "      <td>-1</td>\n",
       "      <td>0</td>\n",
       "    </tr>\n",
       "    <tr>\n",
       "      <th>1</th>\n",
       "      <td>0</td>\n",
       "      <td>0</td>\n",
       "      <td>62</td>\n",
       "      <td>-3</td>\n",
       "      <td>-1</td>\n",
       "      <td>0</td>\n",
       "    </tr>\n",
       "    <tr>\n",
       "      <th>2</th>\n",
       "      <td>-1</td>\n",
       "      <td>-1</td>\n",
       "      <td>61</td>\n",
       "      <td>-3</td>\n",
       "      <td>0</td>\n",
       "      <td>0</td>\n",
       "    </tr>\n",
       "    <tr>\n",
       "      <th>3</th>\n",
       "      <td>-1</td>\n",
       "      <td>-1</td>\n",
       "      <td>63</td>\n",
       "      <td>-2</td>\n",
       "      <td>-1</td>\n",
       "      <td>0</td>\n",
       "    </tr>\n",
       "    <tr>\n",
       "      <th>4</th>\n",
       "      <td>-1</td>\n",
       "      <td>-1</td>\n",
       "      <td>63</td>\n",
       "      <td>-3</td>\n",
       "      <td>-1</td>\n",
       "      <td>0</td>\n",
       "    </tr>\n",
       "  </tbody>\n",
       "</table>\n",
       "</div>"
      ],
      "text/plain": [
       "   column_a  column_b  column_c  column_d  column_e  column_f\n",
       "0        -1        -1        63        -3        -1         0\n",
       "1         0         0        62        -3        -1         0\n",
       "2        -1        -1        61        -3         0         0\n",
       "3        -1        -1        63        -2        -1         0\n",
       "4        -1        -1        63        -3        -1         0"
      ]
     },
     "metadata": {},
     "output_type": "display_data"
    },
    {
     "name": "stdout",
     "output_type": "stream",
     "text": [
      "Dtypes:\n",
      "int64    6\n",
      "Name: count, dtype: int64\n",
      "\n",
      "lp2 - First rows\n"
     ]
    },
    {
     "data": {
      "application/vnd.microsoft.datawrangler.viewer.v0+json": {
       "columns": [
        {
         "name": "index",
         "rawType": "int64",
         "type": "integer"
        },
        {
         "name": "column_a",
         "rawType": "int64",
         "type": "integer"
        },
        {
         "name": "column_b",
         "rawType": "int64",
         "type": "integer"
        },
        {
         "name": "column_c",
         "rawType": "int64",
         "type": "integer"
        },
        {
         "name": "column_d",
         "rawType": "int64",
         "type": "integer"
        },
        {
         "name": "column_e",
         "rawType": "int64",
         "type": "integer"
        },
        {
         "name": "column_f",
         "rawType": "int64",
         "type": "integer"
        }
       ],
       "ref": "7e8974ac-b76e-42e8-8324-64a95adfd9af",
       "rows": [
        [
         "0",
         "-2",
         "-1",
         "81",
         "0",
         "-5",
         "0"
        ],
        [
         "1",
         "-2",
         "-1",
         "79",
         "0",
         "-4",
         "0"
        ],
        [
         "2",
         "-2",
         "-1",
         "79",
         "0",
         "-4",
         "0"
        ],
        [
         "3",
         "-2",
         "-1",
         "80",
         "0",
         "-4",
         "0"
        ],
        [
         "4",
         "-3",
         "-1",
         "79",
         "1",
         "-5",
         "1"
        ]
       ],
       "shape": {
        "columns": 6,
        "rows": 5
       }
      },
      "text/html": [
       "<div>\n",
       "<style scoped>\n",
       "    .dataframe tbody tr th:only-of-type {\n",
       "        vertical-align: middle;\n",
       "    }\n",
       "\n",
       "    .dataframe tbody tr th {\n",
       "        vertical-align: top;\n",
       "    }\n",
       "\n",
       "    .dataframe thead th {\n",
       "        text-align: right;\n",
       "    }\n",
       "</style>\n",
       "<table border=\"1\" class=\"dataframe\">\n",
       "  <thead>\n",
       "    <tr style=\"text-align: right;\">\n",
       "      <th></th>\n",
       "      <th>column_a</th>\n",
       "      <th>column_b</th>\n",
       "      <th>column_c</th>\n",
       "      <th>column_d</th>\n",
       "      <th>column_e</th>\n",
       "      <th>column_f</th>\n",
       "    </tr>\n",
       "  </thead>\n",
       "  <tbody>\n",
       "    <tr>\n",
       "      <th>0</th>\n",
       "      <td>-2</td>\n",
       "      <td>-1</td>\n",
       "      <td>81</td>\n",
       "      <td>0</td>\n",
       "      <td>-5</td>\n",
       "      <td>0</td>\n",
       "    </tr>\n",
       "    <tr>\n",
       "      <th>1</th>\n",
       "      <td>-2</td>\n",
       "      <td>-1</td>\n",
       "      <td>79</td>\n",
       "      <td>0</td>\n",
       "      <td>-4</td>\n",
       "      <td>0</td>\n",
       "    </tr>\n",
       "    <tr>\n",
       "      <th>2</th>\n",
       "      <td>-2</td>\n",
       "      <td>-1</td>\n",
       "      <td>79</td>\n",
       "      <td>0</td>\n",
       "      <td>-4</td>\n",
       "      <td>0</td>\n",
       "    </tr>\n",
       "    <tr>\n",
       "      <th>3</th>\n",
       "      <td>-2</td>\n",
       "      <td>-1</td>\n",
       "      <td>80</td>\n",
       "      <td>0</td>\n",
       "      <td>-4</td>\n",
       "      <td>0</td>\n",
       "    </tr>\n",
       "    <tr>\n",
       "      <th>4</th>\n",
       "      <td>-3</td>\n",
       "      <td>-1</td>\n",
       "      <td>79</td>\n",
       "      <td>1</td>\n",
       "      <td>-5</td>\n",
       "      <td>1</td>\n",
       "    </tr>\n",
       "  </tbody>\n",
       "</table>\n",
       "</div>"
      ],
      "text/plain": [
       "   column_a  column_b  column_c  column_d  column_e  column_f\n",
       "0        -2        -1        81         0        -5         0\n",
       "1        -2        -1        79         0        -4         0\n",
       "2        -2        -1        79         0        -4         0\n",
       "3        -2        -1        80         0        -4         0\n",
       "4        -3        -1        79         1        -5         1"
      ]
     },
     "metadata": {},
     "output_type": "display_data"
    },
    {
     "name": "stdout",
     "output_type": "stream",
     "text": [
      "Dtypes:\n",
      "int64    6\n",
      "Name: count, dtype: int64\n",
      "\n",
      "lp3 - First rows\n"
     ]
    },
    {
     "data": {
      "application/vnd.microsoft.datawrangler.viewer.v0+json": {
       "columns": [
        {
         "name": "index",
         "rawType": "int64",
         "type": "integer"
        },
        {
         "name": "column_a",
         "rawType": "int64",
         "type": "integer"
        },
        {
         "name": "column_b",
         "rawType": "int64",
         "type": "integer"
        },
        {
         "name": "column_c",
         "rawType": "int64",
         "type": "integer"
        },
        {
         "name": "column_d",
         "rawType": "int64",
         "type": "integer"
        },
        {
         "name": "column_e",
         "rawType": "int64",
         "type": "integer"
        },
        {
         "name": "column_f",
         "rawType": "int64",
         "type": "integer"
        }
       ],
       "ref": "65a9dd38-6f66-46c6-8980-8a782dcd0513",
       "rows": [
        [
         "0",
         "-2",
         "-1",
         "81",
         "0",
         "-5",
         "0"
        ],
        [
         "1",
         "-2",
         "-1",
         "79",
         "0",
         "-4",
         "0"
        ],
        [
         "2",
         "-2",
         "-1",
         "79",
         "0",
         "-4",
         "0"
        ],
        [
         "3",
         "-2",
         "-1",
         "80",
         "0",
         "-4",
         "0"
        ],
        [
         "4",
         "-3",
         "-1",
         "79",
         "1",
         "-5",
         "1"
        ]
       ],
       "shape": {
        "columns": 6,
        "rows": 5
       }
      },
      "text/html": [
       "<div>\n",
       "<style scoped>\n",
       "    .dataframe tbody tr th:only-of-type {\n",
       "        vertical-align: middle;\n",
       "    }\n",
       "\n",
       "    .dataframe tbody tr th {\n",
       "        vertical-align: top;\n",
       "    }\n",
       "\n",
       "    .dataframe thead th {\n",
       "        text-align: right;\n",
       "    }\n",
       "</style>\n",
       "<table border=\"1\" class=\"dataframe\">\n",
       "  <thead>\n",
       "    <tr style=\"text-align: right;\">\n",
       "      <th></th>\n",
       "      <th>column_a</th>\n",
       "      <th>column_b</th>\n",
       "      <th>column_c</th>\n",
       "      <th>column_d</th>\n",
       "      <th>column_e</th>\n",
       "      <th>column_f</th>\n",
       "    </tr>\n",
       "  </thead>\n",
       "  <tbody>\n",
       "    <tr>\n",
       "      <th>0</th>\n",
       "      <td>-2</td>\n",
       "      <td>-1</td>\n",
       "      <td>81</td>\n",
       "      <td>0</td>\n",
       "      <td>-5</td>\n",
       "      <td>0</td>\n",
       "    </tr>\n",
       "    <tr>\n",
       "      <th>1</th>\n",
       "      <td>-2</td>\n",
       "      <td>-1</td>\n",
       "      <td>79</td>\n",
       "      <td>0</td>\n",
       "      <td>-4</td>\n",
       "      <td>0</td>\n",
       "    </tr>\n",
       "    <tr>\n",
       "      <th>2</th>\n",
       "      <td>-2</td>\n",
       "      <td>-1</td>\n",
       "      <td>79</td>\n",
       "      <td>0</td>\n",
       "      <td>-4</td>\n",
       "      <td>0</td>\n",
       "    </tr>\n",
       "    <tr>\n",
       "      <th>3</th>\n",
       "      <td>-2</td>\n",
       "      <td>-1</td>\n",
       "      <td>80</td>\n",
       "      <td>0</td>\n",
       "      <td>-4</td>\n",
       "      <td>0</td>\n",
       "    </tr>\n",
       "    <tr>\n",
       "      <th>4</th>\n",
       "      <td>-3</td>\n",
       "      <td>-1</td>\n",
       "      <td>79</td>\n",
       "      <td>1</td>\n",
       "      <td>-5</td>\n",
       "      <td>1</td>\n",
       "    </tr>\n",
       "  </tbody>\n",
       "</table>\n",
       "</div>"
      ],
      "text/plain": [
       "   column_a  column_b  column_c  column_d  column_e  column_f\n",
       "0        -2        -1        81         0        -5         0\n",
       "1        -2        -1        79         0        -4         0\n",
       "2        -2        -1        79         0        -4         0\n",
       "3        -2        -1        80         0        -4         0\n",
       "4        -3        -1        79         1        -5         1"
      ]
     },
     "metadata": {},
     "output_type": "display_data"
    },
    {
     "name": "stdout",
     "output_type": "stream",
     "text": [
      "Dtypes:\n",
      "int64    6\n",
      "Name: count, dtype: int64\n",
      "\n",
      "lp4 - First rows\n"
     ]
    },
    {
     "data": {
      "application/vnd.microsoft.datawrangler.viewer.v0+json": {
       "columns": [
        {
         "name": "index",
         "rawType": "int64",
         "type": "integer"
        },
        {
         "name": "column_a",
         "rawType": "int64",
         "type": "integer"
        },
        {
         "name": "column_b",
         "rawType": "int64",
         "type": "integer"
        },
        {
         "name": "column_c",
         "rawType": "int64",
         "type": "integer"
        },
        {
         "name": "column_d",
         "rawType": "int64",
         "type": "integer"
        },
        {
         "name": "column_e",
         "rawType": "int64",
         "type": "integer"
        },
        {
         "name": "column_f",
         "rawType": "int64",
         "type": "integer"
        }
       ],
       "ref": "13c59f0c-bc3d-4d3e-b855-821677e5f20b",
       "rows": [
        [
         "0",
         "-2",
         "2",
         "20",
         "5",
         "-6",
         "-1"
        ],
        [
         "1",
         "-2",
         "1",
         "20",
         "5",
         "-6",
         "0"
        ],
        [
         "2",
         "-2",
         "1",
         "23",
         "5",
         "-6",
         "0"
        ],
        [
         "3",
         "-2",
         "2",
         "20",
         "5",
         "-6",
         "-1"
        ],
        [
         "4",
         "-3",
         "1",
         "22",
         "5",
         "-6",
         "-1"
        ]
       ],
       "shape": {
        "columns": 6,
        "rows": 5
       }
      },
      "text/html": [
       "<div>\n",
       "<style scoped>\n",
       "    .dataframe tbody tr th:only-of-type {\n",
       "        vertical-align: middle;\n",
       "    }\n",
       "\n",
       "    .dataframe tbody tr th {\n",
       "        vertical-align: top;\n",
       "    }\n",
       "\n",
       "    .dataframe thead th {\n",
       "        text-align: right;\n",
       "    }\n",
       "</style>\n",
       "<table border=\"1\" class=\"dataframe\">\n",
       "  <thead>\n",
       "    <tr style=\"text-align: right;\">\n",
       "      <th></th>\n",
       "      <th>column_a</th>\n",
       "      <th>column_b</th>\n",
       "      <th>column_c</th>\n",
       "      <th>column_d</th>\n",
       "      <th>column_e</th>\n",
       "      <th>column_f</th>\n",
       "    </tr>\n",
       "  </thead>\n",
       "  <tbody>\n",
       "    <tr>\n",
       "      <th>0</th>\n",
       "      <td>-2</td>\n",
       "      <td>2</td>\n",
       "      <td>20</td>\n",
       "      <td>5</td>\n",
       "      <td>-6</td>\n",
       "      <td>-1</td>\n",
       "    </tr>\n",
       "    <tr>\n",
       "      <th>1</th>\n",
       "      <td>-2</td>\n",
       "      <td>1</td>\n",
       "      <td>20</td>\n",
       "      <td>5</td>\n",
       "      <td>-6</td>\n",
       "      <td>0</td>\n",
       "    </tr>\n",
       "    <tr>\n",
       "      <th>2</th>\n",
       "      <td>-2</td>\n",
       "      <td>1</td>\n",
       "      <td>23</td>\n",
       "      <td>5</td>\n",
       "      <td>-6</td>\n",
       "      <td>0</td>\n",
       "    </tr>\n",
       "    <tr>\n",
       "      <th>3</th>\n",
       "      <td>-2</td>\n",
       "      <td>2</td>\n",
       "      <td>20</td>\n",
       "      <td>5</td>\n",
       "      <td>-6</td>\n",
       "      <td>-1</td>\n",
       "    </tr>\n",
       "    <tr>\n",
       "      <th>4</th>\n",
       "      <td>-3</td>\n",
       "      <td>1</td>\n",
       "      <td>22</td>\n",
       "      <td>5</td>\n",
       "      <td>-6</td>\n",
       "      <td>-1</td>\n",
       "    </tr>\n",
       "  </tbody>\n",
       "</table>\n",
       "</div>"
      ],
      "text/plain": [
       "   column_a  column_b  column_c  column_d  column_e  column_f\n",
       "0        -2         2        20         5        -6        -1\n",
       "1        -2         1        20         5        -6         0\n",
       "2        -2         1        23         5        -6         0\n",
       "3        -2         2        20         5        -6        -1\n",
       "4        -3         1        22         5        -6        -1"
      ]
     },
     "metadata": {},
     "output_type": "display_data"
    },
    {
     "name": "stdout",
     "output_type": "stream",
     "text": [
      "Dtypes:\n",
      "int64    6\n",
      "Name: count, dtype: int64\n",
      "\n",
      "lp5 - First rows\n"
     ]
    },
    {
     "data": {
      "application/vnd.microsoft.datawrangler.viewer.v0+json": {
       "columns": [
        {
         "name": "index",
         "rawType": "int64",
         "type": "integer"
        },
        {
         "name": "column_a",
         "rawType": "int64",
         "type": "integer"
        },
        {
         "name": "column_b",
         "rawType": "int64",
         "type": "integer"
        },
        {
         "name": "column_c",
         "rawType": "int64",
         "type": "integer"
        },
        {
         "name": "column_d",
         "rawType": "int64",
         "type": "integer"
        },
        {
         "name": "column_e",
         "rawType": "int64",
         "type": "integer"
        },
        {
         "name": "column_f",
         "rawType": "int64",
         "type": "integer"
        }
       ],
       "ref": "c2ae489f-5fb2-479e-856e-56ba42f9203f",
       "rows": [
        [
         "0",
         "-2",
         "-1",
         "81",
         "0",
         "-5",
         "0"
        ],
        [
         "1",
         "-2",
         "-1",
         "79",
         "0",
         "-4",
         "0"
        ],
        [
         "2",
         "-2",
         "-1",
         "79",
         "0",
         "-4",
         "0"
        ],
        [
         "3",
         "-2",
         "-1",
         "80",
         "0",
         "-4",
         "0"
        ],
        [
         "4",
         "-3",
         "-1",
         "79",
         "1",
         "-5",
         "1"
        ]
       ],
       "shape": {
        "columns": 6,
        "rows": 5
       }
      },
      "text/html": [
       "<div>\n",
       "<style scoped>\n",
       "    .dataframe tbody tr th:only-of-type {\n",
       "        vertical-align: middle;\n",
       "    }\n",
       "\n",
       "    .dataframe tbody tr th {\n",
       "        vertical-align: top;\n",
       "    }\n",
       "\n",
       "    .dataframe thead th {\n",
       "        text-align: right;\n",
       "    }\n",
       "</style>\n",
       "<table border=\"1\" class=\"dataframe\">\n",
       "  <thead>\n",
       "    <tr style=\"text-align: right;\">\n",
       "      <th></th>\n",
       "      <th>column_a</th>\n",
       "      <th>column_b</th>\n",
       "      <th>column_c</th>\n",
       "      <th>column_d</th>\n",
       "      <th>column_e</th>\n",
       "      <th>column_f</th>\n",
       "    </tr>\n",
       "  </thead>\n",
       "  <tbody>\n",
       "    <tr>\n",
       "      <th>0</th>\n",
       "      <td>-2</td>\n",
       "      <td>-1</td>\n",
       "      <td>81</td>\n",
       "      <td>0</td>\n",
       "      <td>-5</td>\n",
       "      <td>0</td>\n",
       "    </tr>\n",
       "    <tr>\n",
       "      <th>1</th>\n",
       "      <td>-2</td>\n",
       "      <td>-1</td>\n",
       "      <td>79</td>\n",
       "      <td>0</td>\n",
       "      <td>-4</td>\n",
       "      <td>0</td>\n",
       "    </tr>\n",
       "    <tr>\n",
       "      <th>2</th>\n",
       "      <td>-2</td>\n",
       "      <td>-1</td>\n",
       "      <td>79</td>\n",
       "      <td>0</td>\n",
       "      <td>-4</td>\n",
       "      <td>0</td>\n",
       "    </tr>\n",
       "    <tr>\n",
       "      <th>3</th>\n",
       "      <td>-2</td>\n",
       "      <td>-1</td>\n",
       "      <td>80</td>\n",
       "      <td>0</td>\n",
       "      <td>-4</td>\n",
       "      <td>0</td>\n",
       "    </tr>\n",
       "    <tr>\n",
       "      <th>4</th>\n",
       "      <td>-3</td>\n",
       "      <td>-1</td>\n",
       "      <td>79</td>\n",
       "      <td>1</td>\n",
       "      <td>-5</td>\n",
       "      <td>1</td>\n",
       "    </tr>\n",
       "  </tbody>\n",
       "</table>\n",
       "</div>"
      ],
      "text/plain": [
       "   column_a  column_b  column_c  column_d  column_e  column_f\n",
       "0        -2        -1        81         0        -5         0\n",
       "1        -2        -1        79         0        -4         0\n",
       "2        -2        -1        79         0        -4         0\n",
       "3        -2        -1        80         0        -4         0\n",
       "4        -3        -1        79         1        -5         1"
      ]
     },
     "metadata": {},
     "output_type": "display_data"
    },
    {
     "name": "stdout",
     "output_type": "stream",
     "text": [
      "Dtypes:\n",
      "int64    6\n",
      "Name: count, dtype: int64\n",
      "\n",
      "lp1 - Stats\n"
     ]
    },
    {
     "data": {
      "application/vnd.microsoft.datawrangler.viewer.v0+json": {
       "columns": [
        {
         "name": "index",
         "rawType": "object",
         "type": "string"
        },
        {
         "name": "count",
         "rawType": "float64",
         "type": "float"
        },
        {
         "name": "mean",
         "rawType": "float64",
         "type": "float"
        },
        {
         "name": "std",
         "rawType": "float64",
         "type": "float"
        },
        {
         "name": "min",
         "rawType": "float64",
         "type": "float"
        },
        {
         "name": "25%",
         "rawType": "float64",
         "type": "float"
        },
        {
         "name": "50%",
         "rawType": "float64",
         "type": "float"
        },
        {
         "name": "75%",
         "rawType": "float64",
         "type": "float"
        },
        {
         "name": "max",
         "rawType": "float64",
         "type": "float"
        }
       ],
       "ref": "8ef4b07c-2885-4959-9d39-cf0bc54a2466",
       "rows": [
        [
         "column_a",
         "1320.0",
         "-2.3454545454545452",
         "50.367959723795515",
         "-260.0",
         "-4.0",
         "-1.0",
         "3.0",
         "342.0"
        ],
        [
         "column_b",
         "1320.0",
         "8.913636363636364",
         "45.84547466260731",
         "-353.0",
         "-2.0",
         "1.0",
         "11.0",
         "236.0"
        ],
        [
         "column_c",
         "1320.0",
         "-128.21439393939394",
         "346.8160914792704",
         "-1547.0",
         "-117.25",
         "46.0",
         "60.0",
         "157.0"
        ],
        [
         "column_d",
         "1320.0",
         "-39.028030303030306",
         "147.2693991924254",
         "-672.0",
         "-39.25",
         "-9.0",
         "-1.0",
         "686.0"
        ],
        [
         "column_e",
         "1320.0",
         "-4.517424242424243",
         "101.60930840052686",
         "-646.0",
         "-13.0",
         "-3.0",
         "3.0",
         "601.0"
        ],
        [
         "column_f",
         "1320.0",
         "0.8681818181818182",
         "18.317250217326766",
         "-137.0",
         "-1.0",
         "0.0",
         "2.0",
         "123.0"
        ]
       ],
       "shape": {
        "columns": 8,
        "rows": 6
       }
      },
      "text/html": [
       "<div>\n",
       "<style scoped>\n",
       "    .dataframe tbody tr th:only-of-type {\n",
       "        vertical-align: middle;\n",
       "    }\n",
       "\n",
       "    .dataframe tbody tr th {\n",
       "        vertical-align: top;\n",
       "    }\n",
       "\n",
       "    .dataframe thead th {\n",
       "        text-align: right;\n",
       "    }\n",
       "</style>\n",
       "<table border=\"1\" class=\"dataframe\">\n",
       "  <thead>\n",
       "    <tr style=\"text-align: right;\">\n",
       "      <th></th>\n",
       "      <th>count</th>\n",
       "      <th>mean</th>\n",
       "      <th>std</th>\n",
       "      <th>min</th>\n",
       "      <th>25%</th>\n",
       "      <th>50%</th>\n",
       "      <th>75%</th>\n",
       "      <th>max</th>\n",
       "    </tr>\n",
       "  </thead>\n",
       "  <tbody>\n",
       "    <tr>\n",
       "      <th>column_a</th>\n",
       "      <td>1320.0</td>\n",
       "      <td>-2.345455</td>\n",
       "      <td>50.367960</td>\n",
       "      <td>-260.0</td>\n",
       "      <td>-4.00</td>\n",
       "      <td>-1.0</td>\n",
       "      <td>3.0</td>\n",
       "      <td>342.0</td>\n",
       "    </tr>\n",
       "    <tr>\n",
       "      <th>column_b</th>\n",
       "      <td>1320.0</td>\n",
       "      <td>8.913636</td>\n",
       "      <td>45.845475</td>\n",
       "      <td>-353.0</td>\n",
       "      <td>-2.00</td>\n",
       "      <td>1.0</td>\n",
       "      <td>11.0</td>\n",
       "      <td>236.0</td>\n",
       "    </tr>\n",
       "    <tr>\n",
       "      <th>column_c</th>\n",
       "      <td>1320.0</td>\n",
       "      <td>-128.214394</td>\n",
       "      <td>346.816091</td>\n",
       "      <td>-1547.0</td>\n",
       "      <td>-117.25</td>\n",
       "      <td>46.0</td>\n",
       "      <td>60.0</td>\n",
       "      <td>157.0</td>\n",
       "    </tr>\n",
       "    <tr>\n",
       "      <th>column_d</th>\n",
       "      <td>1320.0</td>\n",
       "      <td>-39.028030</td>\n",
       "      <td>147.269399</td>\n",
       "      <td>-672.0</td>\n",
       "      <td>-39.25</td>\n",
       "      <td>-9.0</td>\n",
       "      <td>-1.0</td>\n",
       "      <td>686.0</td>\n",
       "    </tr>\n",
       "    <tr>\n",
       "      <th>column_e</th>\n",
       "      <td>1320.0</td>\n",
       "      <td>-4.517424</td>\n",
       "      <td>101.609308</td>\n",
       "      <td>-646.0</td>\n",
       "      <td>-13.00</td>\n",
       "      <td>-3.0</td>\n",
       "      <td>3.0</td>\n",
       "      <td>601.0</td>\n",
       "    </tr>\n",
       "    <tr>\n",
       "      <th>column_f</th>\n",
       "      <td>1320.0</td>\n",
       "      <td>0.868182</td>\n",
       "      <td>18.317250</td>\n",
       "      <td>-137.0</td>\n",
       "      <td>-1.00</td>\n",
       "      <td>0.0</td>\n",
       "      <td>2.0</td>\n",
       "      <td>123.0</td>\n",
       "    </tr>\n",
       "  </tbody>\n",
       "</table>\n",
       "</div>"
      ],
      "text/plain": [
       "           count        mean         std     min     25%   50%   75%    max\n",
       "column_a  1320.0   -2.345455   50.367960  -260.0   -4.00  -1.0   3.0  342.0\n",
       "column_b  1320.0    8.913636   45.845475  -353.0   -2.00   1.0  11.0  236.0\n",
       "column_c  1320.0 -128.214394  346.816091 -1547.0 -117.25  46.0  60.0  157.0\n",
       "column_d  1320.0  -39.028030  147.269399  -672.0  -39.25  -9.0  -1.0  686.0\n",
       "column_e  1320.0   -4.517424  101.609308  -646.0  -13.00  -3.0   3.0  601.0\n",
       "column_f  1320.0    0.868182   18.317250  -137.0   -1.00   0.0   2.0  123.0"
      ]
     },
     "metadata": {},
     "output_type": "display_data"
    },
    {
     "name": "stdout",
     "output_type": "stream",
     "text": [
      "\n",
      "lp2 - Stats\n"
     ]
    },
    {
     "data": {
      "application/vnd.microsoft.datawrangler.viewer.v0+json": {
       "columns": [
        {
         "name": "index",
         "rawType": "object",
         "type": "string"
        },
        {
         "name": "count",
         "rawType": "float64",
         "type": "float"
        },
        {
         "name": "mean",
         "rawType": "float64",
         "type": "float"
        },
        {
         "name": "std",
         "rawType": "float64",
         "type": "float"
        },
        {
         "name": "min",
         "rawType": "float64",
         "type": "float"
        },
        {
         "name": "25%",
         "rawType": "float64",
         "type": "float"
        },
        {
         "name": "50%",
         "rawType": "float64",
         "type": "float"
        },
        {
         "name": "75%",
         "rawType": "float64",
         "type": "float"
        },
        {
         "name": "max",
         "rawType": "float64",
         "type": "float"
        }
       ],
       "ref": "4cdc7935-a7da-453c-afae-80a409ea2237",
       "rows": [
        [
         "column_a",
         "705.0",
         "-0.573049645390071",
         "23.11023754669911",
         "-130.0",
         "-6.0",
         "-3.0",
         "1.0",
         "184.0"
        ],
        [
         "column_b",
         "705.0",
         "-1.9815602836879433",
         "18.405423186541867",
         "-136.0",
         "-7.0",
         "-2.0",
         "2.0",
         "168.0"
        ],
        [
         "column_c",
         "705.0",
         "81.0241134751773",
         "14.574387465245499",
         "10.0",
         "77.0",
         "81.0",
         "84.0",
         "361.0"
        ],
        [
         "column_d",
         "705.0",
         "-8.943262411347519",
         "43.6137770549702",
         "-423.0",
         "-19.0",
         "-8.0",
         "2.0",
         "421.0"
        ],
        [
         "column_e",
         "705.0",
         "-11.370212765957447",
         "52.70151227005974",
         "-286.0",
         "-24.0",
         "-18.0",
         "-6.0",
         "756.0"
        ],
        [
         "column_f",
         "705.0",
         "-6.666666666666667",
         "11.481869766433224",
         "-122.0",
         "-10.0",
         "-7.0",
         "-3.0",
         "90.0"
        ]
       ],
       "shape": {
        "columns": 8,
        "rows": 6
       }
      },
      "text/html": [
       "<div>\n",
       "<style scoped>\n",
       "    .dataframe tbody tr th:only-of-type {\n",
       "        vertical-align: middle;\n",
       "    }\n",
       "\n",
       "    .dataframe tbody tr th {\n",
       "        vertical-align: top;\n",
       "    }\n",
       "\n",
       "    .dataframe thead th {\n",
       "        text-align: right;\n",
       "    }\n",
       "</style>\n",
       "<table border=\"1\" class=\"dataframe\">\n",
       "  <thead>\n",
       "    <tr style=\"text-align: right;\">\n",
       "      <th></th>\n",
       "      <th>count</th>\n",
       "      <th>mean</th>\n",
       "      <th>std</th>\n",
       "      <th>min</th>\n",
       "      <th>25%</th>\n",
       "      <th>50%</th>\n",
       "      <th>75%</th>\n",
       "      <th>max</th>\n",
       "    </tr>\n",
       "  </thead>\n",
       "  <tbody>\n",
       "    <tr>\n",
       "      <th>column_a</th>\n",
       "      <td>705.0</td>\n",
       "      <td>-0.573050</td>\n",
       "      <td>23.110238</td>\n",
       "      <td>-130.0</td>\n",
       "      <td>-6.0</td>\n",
       "      <td>-3.0</td>\n",
       "      <td>1.0</td>\n",
       "      <td>184.0</td>\n",
       "    </tr>\n",
       "    <tr>\n",
       "      <th>column_b</th>\n",
       "      <td>705.0</td>\n",
       "      <td>-1.981560</td>\n",
       "      <td>18.405423</td>\n",
       "      <td>-136.0</td>\n",
       "      <td>-7.0</td>\n",
       "      <td>-2.0</td>\n",
       "      <td>2.0</td>\n",
       "      <td>168.0</td>\n",
       "    </tr>\n",
       "    <tr>\n",
       "      <th>column_c</th>\n",
       "      <td>705.0</td>\n",
       "      <td>81.024113</td>\n",
       "      <td>14.574387</td>\n",
       "      <td>10.0</td>\n",
       "      <td>77.0</td>\n",
       "      <td>81.0</td>\n",
       "      <td>84.0</td>\n",
       "      <td>361.0</td>\n",
       "    </tr>\n",
       "    <tr>\n",
       "      <th>column_d</th>\n",
       "      <td>705.0</td>\n",
       "      <td>-8.943262</td>\n",
       "      <td>43.613777</td>\n",
       "      <td>-423.0</td>\n",
       "      <td>-19.0</td>\n",
       "      <td>-8.0</td>\n",
       "      <td>2.0</td>\n",
       "      <td>421.0</td>\n",
       "    </tr>\n",
       "    <tr>\n",
       "      <th>column_e</th>\n",
       "      <td>705.0</td>\n",
       "      <td>-11.370213</td>\n",
       "      <td>52.701512</td>\n",
       "      <td>-286.0</td>\n",
       "      <td>-24.0</td>\n",
       "      <td>-18.0</td>\n",
       "      <td>-6.0</td>\n",
       "      <td>756.0</td>\n",
       "    </tr>\n",
       "    <tr>\n",
       "      <th>column_f</th>\n",
       "      <td>705.0</td>\n",
       "      <td>-6.666667</td>\n",
       "      <td>11.481870</td>\n",
       "      <td>-122.0</td>\n",
       "      <td>-10.0</td>\n",
       "      <td>-7.0</td>\n",
       "      <td>-3.0</td>\n",
       "      <td>90.0</td>\n",
       "    </tr>\n",
       "  </tbody>\n",
       "</table>\n",
       "</div>"
      ],
      "text/plain": [
       "          count       mean        std    min   25%   50%   75%    max\n",
       "column_a  705.0  -0.573050  23.110238 -130.0  -6.0  -3.0   1.0  184.0\n",
       "column_b  705.0  -1.981560  18.405423 -136.0  -7.0  -2.0   2.0  168.0\n",
       "column_c  705.0  81.024113  14.574387   10.0  77.0  81.0  84.0  361.0\n",
       "column_d  705.0  -8.943262  43.613777 -423.0 -19.0  -8.0   2.0  421.0\n",
       "column_e  705.0 -11.370213  52.701512 -286.0 -24.0 -18.0  -6.0  756.0\n",
       "column_f  705.0  -6.666667  11.481870 -122.0 -10.0  -7.0  -3.0   90.0"
      ]
     },
     "metadata": {},
     "output_type": "display_data"
    },
    {
     "name": "stdout",
     "output_type": "stream",
     "text": [
      "\n",
      "lp3 - Stats\n"
     ]
    },
    {
     "data": {
      "application/vnd.microsoft.datawrangler.viewer.v0+json": {
       "columns": [
        {
         "name": "index",
         "rawType": "object",
         "type": "string"
        },
        {
         "name": "count",
         "rawType": "float64",
         "type": "float"
        },
        {
         "name": "mean",
         "rawType": "float64",
         "type": "float"
        },
        {
         "name": "std",
         "rawType": "float64",
         "type": "float"
        },
        {
         "name": "min",
         "rawType": "float64",
         "type": "float"
        },
        {
         "name": "25%",
         "rawType": "float64",
         "type": "float"
        },
        {
         "name": "50%",
         "rawType": "float64",
         "type": "float"
        },
        {
         "name": "75%",
         "rawType": "float64",
         "type": "float"
        },
        {
         "name": "max",
         "rawType": "float64",
         "type": "float"
        }
       ],
       "ref": "34f6da13-6c2e-4fdd-9121-61316c30200b",
       "rows": [
        [
         "column_a",
         "705.0",
         "-0.573049645390071",
         "23.11023754669911",
         "-130.0",
         "-6.0",
         "-3.0",
         "1.0",
         "184.0"
        ],
        [
         "column_b",
         "705.0",
         "-1.9815602836879433",
         "18.405423186541867",
         "-136.0",
         "-7.0",
         "-2.0",
         "2.0",
         "168.0"
        ],
        [
         "column_c",
         "705.0",
         "81.0241134751773",
         "14.574387465245499",
         "10.0",
         "77.0",
         "81.0",
         "84.0",
         "361.0"
        ],
        [
         "column_d",
         "705.0",
         "-8.943262411347519",
         "43.6137770549702",
         "-423.0",
         "-19.0",
         "-8.0",
         "2.0",
         "421.0"
        ],
        [
         "column_e",
         "705.0",
         "-11.370212765957447",
         "52.70151227005974",
         "-286.0",
         "-24.0",
         "-18.0",
         "-6.0",
         "756.0"
        ],
        [
         "column_f",
         "705.0",
         "-6.666666666666667",
         "11.481869766433224",
         "-122.0",
         "-10.0",
         "-7.0",
         "-3.0",
         "90.0"
        ]
       ],
       "shape": {
        "columns": 8,
        "rows": 6
       }
      },
      "text/html": [
       "<div>\n",
       "<style scoped>\n",
       "    .dataframe tbody tr th:only-of-type {\n",
       "        vertical-align: middle;\n",
       "    }\n",
       "\n",
       "    .dataframe tbody tr th {\n",
       "        vertical-align: top;\n",
       "    }\n",
       "\n",
       "    .dataframe thead th {\n",
       "        text-align: right;\n",
       "    }\n",
       "</style>\n",
       "<table border=\"1\" class=\"dataframe\">\n",
       "  <thead>\n",
       "    <tr style=\"text-align: right;\">\n",
       "      <th></th>\n",
       "      <th>count</th>\n",
       "      <th>mean</th>\n",
       "      <th>std</th>\n",
       "      <th>min</th>\n",
       "      <th>25%</th>\n",
       "      <th>50%</th>\n",
       "      <th>75%</th>\n",
       "      <th>max</th>\n",
       "    </tr>\n",
       "  </thead>\n",
       "  <tbody>\n",
       "    <tr>\n",
       "      <th>column_a</th>\n",
       "      <td>705.0</td>\n",
       "      <td>-0.573050</td>\n",
       "      <td>23.110238</td>\n",
       "      <td>-130.0</td>\n",
       "      <td>-6.0</td>\n",
       "      <td>-3.0</td>\n",
       "      <td>1.0</td>\n",
       "      <td>184.0</td>\n",
       "    </tr>\n",
       "    <tr>\n",
       "      <th>column_b</th>\n",
       "      <td>705.0</td>\n",
       "      <td>-1.981560</td>\n",
       "      <td>18.405423</td>\n",
       "      <td>-136.0</td>\n",
       "      <td>-7.0</td>\n",
       "      <td>-2.0</td>\n",
       "      <td>2.0</td>\n",
       "      <td>168.0</td>\n",
       "    </tr>\n",
       "    <tr>\n",
       "      <th>column_c</th>\n",
       "      <td>705.0</td>\n",
       "      <td>81.024113</td>\n",
       "      <td>14.574387</td>\n",
       "      <td>10.0</td>\n",
       "      <td>77.0</td>\n",
       "      <td>81.0</td>\n",
       "      <td>84.0</td>\n",
       "      <td>361.0</td>\n",
       "    </tr>\n",
       "    <tr>\n",
       "      <th>column_d</th>\n",
       "      <td>705.0</td>\n",
       "      <td>-8.943262</td>\n",
       "      <td>43.613777</td>\n",
       "      <td>-423.0</td>\n",
       "      <td>-19.0</td>\n",
       "      <td>-8.0</td>\n",
       "      <td>2.0</td>\n",
       "      <td>421.0</td>\n",
       "    </tr>\n",
       "    <tr>\n",
       "      <th>column_e</th>\n",
       "      <td>705.0</td>\n",
       "      <td>-11.370213</td>\n",
       "      <td>52.701512</td>\n",
       "      <td>-286.0</td>\n",
       "      <td>-24.0</td>\n",
       "      <td>-18.0</td>\n",
       "      <td>-6.0</td>\n",
       "      <td>756.0</td>\n",
       "    </tr>\n",
       "    <tr>\n",
       "      <th>column_f</th>\n",
       "      <td>705.0</td>\n",
       "      <td>-6.666667</td>\n",
       "      <td>11.481870</td>\n",
       "      <td>-122.0</td>\n",
       "      <td>-10.0</td>\n",
       "      <td>-7.0</td>\n",
       "      <td>-3.0</td>\n",
       "      <td>90.0</td>\n",
       "    </tr>\n",
       "  </tbody>\n",
       "</table>\n",
       "</div>"
      ],
      "text/plain": [
       "          count       mean        std    min   25%   50%   75%    max\n",
       "column_a  705.0  -0.573050  23.110238 -130.0  -6.0  -3.0   1.0  184.0\n",
       "column_b  705.0  -1.981560  18.405423 -136.0  -7.0  -2.0   2.0  168.0\n",
       "column_c  705.0  81.024113  14.574387   10.0  77.0  81.0  84.0  361.0\n",
       "column_d  705.0  -8.943262  43.613777 -423.0 -19.0  -8.0   2.0  421.0\n",
       "column_e  705.0 -11.370213  52.701512 -286.0 -24.0 -18.0  -6.0  756.0\n",
       "column_f  705.0  -6.666667  11.481870 -122.0 -10.0  -7.0  -3.0   90.0"
      ]
     },
     "metadata": {},
     "output_type": "display_data"
    },
    {
     "name": "stdout",
     "output_type": "stream",
     "text": [
      "\n",
      "lp4 - Stats\n"
     ]
    },
    {
     "data": {
      "application/vnd.microsoft.datawrangler.viewer.v0+json": {
       "columns": [
        {
         "name": "index",
         "rawType": "object",
         "type": "string"
        },
        {
         "name": "count",
         "rawType": "float64",
         "type": "float"
        },
        {
         "name": "mean",
         "rawType": "float64",
         "type": "float"
        },
        {
         "name": "std",
         "rawType": "float64",
         "type": "float"
        },
        {
         "name": "min",
         "rawType": "float64",
         "type": "float"
        },
        {
         "name": "25%",
         "rawType": "float64",
         "type": "float"
        },
        {
         "name": "50%",
         "rawType": "float64",
         "type": "float"
        },
        {
         "name": "75%",
         "rawType": "float64",
         "type": "float"
        },
        {
         "name": "max",
         "rawType": "float64",
         "type": "float"
        }
       ],
       "ref": "0ad38bb2-5508-456d-82b3-fe000c66aa7d",
       "rows": [
        [
         "column_a",
         "1755.0",
         "0.347008547008547",
         "70.72771142161271",
         "-883.0",
         "-4.0",
         "-1.0",
         "3.0",
         "462.0"
        ],
        [
         "column_b",
         "1755.0",
         "-8.49059829059829",
         "54.84539582238754",
         "-382.0",
         "-2.0",
         "0.0",
         "2.0",
         "438.0"
        ],
        [
         "column_c",
         "1755.0",
         "-161.75156695156696",
         "588.6682880002492",
         "-3617.0",
         "-17.0",
         "3.0",
         "14.0",
         "418.0"
        ],
        [
         "column_d",
         "1755.0",
         "5.3076923076923075",
         "72.44429246614322",
         "-824.0",
         "-4.0",
         "2.0",
         "5.0",
         "1016.0"
        ],
        [
         "column_e",
         "1755.0",
         "-2.5492877492877493",
         "78.1124620009246",
         "-725.0",
         "-8.0",
         "-2.0",
         "5.0",
         "476.0"
        ],
        [
         "column_f",
         "1755.0",
         "-2.021652421652422",
         "22.357966461972705",
         "-248.0",
         "-3.0",
         "-1.0",
         "2.0",
         "244.0"
        ]
       ],
       "shape": {
        "columns": 8,
        "rows": 6
       }
      },
      "text/html": [
       "<div>\n",
       "<style scoped>\n",
       "    .dataframe tbody tr th:only-of-type {\n",
       "        vertical-align: middle;\n",
       "    }\n",
       "\n",
       "    .dataframe tbody tr th {\n",
       "        vertical-align: top;\n",
       "    }\n",
       "\n",
       "    .dataframe thead th {\n",
       "        text-align: right;\n",
       "    }\n",
       "</style>\n",
       "<table border=\"1\" class=\"dataframe\">\n",
       "  <thead>\n",
       "    <tr style=\"text-align: right;\">\n",
       "      <th></th>\n",
       "      <th>count</th>\n",
       "      <th>mean</th>\n",
       "      <th>std</th>\n",
       "      <th>min</th>\n",
       "      <th>25%</th>\n",
       "      <th>50%</th>\n",
       "      <th>75%</th>\n",
       "      <th>max</th>\n",
       "    </tr>\n",
       "  </thead>\n",
       "  <tbody>\n",
       "    <tr>\n",
       "      <th>column_a</th>\n",
       "      <td>1755.0</td>\n",
       "      <td>0.347009</td>\n",
       "      <td>70.727711</td>\n",
       "      <td>-883.0</td>\n",
       "      <td>-4.0</td>\n",
       "      <td>-1.0</td>\n",
       "      <td>3.0</td>\n",
       "      <td>462.0</td>\n",
       "    </tr>\n",
       "    <tr>\n",
       "      <th>column_b</th>\n",
       "      <td>1755.0</td>\n",
       "      <td>-8.490598</td>\n",
       "      <td>54.845396</td>\n",
       "      <td>-382.0</td>\n",
       "      <td>-2.0</td>\n",
       "      <td>0.0</td>\n",
       "      <td>2.0</td>\n",
       "      <td>438.0</td>\n",
       "    </tr>\n",
       "    <tr>\n",
       "      <th>column_c</th>\n",
       "      <td>1755.0</td>\n",
       "      <td>-161.751567</td>\n",
       "      <td>588.668288</td>\n",
       "      <td>-3617.0</td>\n",
       "      <td>-17.0</td>\n",
       "      <td>3.0</td>\n",
       "      <td>14.0</td>\n",
       "      <td>418.0</td>\n",
       "    </tr>\n",
       "    <tr>\n",
       "      <th>column_d</th>\n",
       "      <td>1755.0</td>\n",
       "      <td>5.307692</td>\n",
       "      <td>72.444292</td>\n",
       "      <td>-824.0</td>\n",
       "      <td>-4.0</td>\n",
       "      <td>2.0</td>\n",
       "      <td>5.0</td>\n",
       "      <td>1016.0</td>\n",
       "    </tr>\n",
       "    <tr>\n",
       "      <th>column_e</th>\n",
       "      <td>1755.0</td>\n",
       "      <td>-2.549288</td>\n",
       "      <td>78.112462</td>\n",
       "      <td>-725.0</td>\n",
       "      <td>-8.0</td>\n",
       "      <td>-2.0</td>\n",
       "      <td>5.0</td>\n",
       "      <td>476.0</td>\n",
       "    </tr>\n",
       "    <tr>\n",
       "      <th>column_f</th>\n",
       "      <td>1755.0</td>\n",
       "      <td>-2.021652</td>\n",
       "      <td>22.357966</td>\n",
       "      <td>-248.0</td>\n",
       "      <td>-3.0</td>\n",
       "      <td>-1.0</td>\n",
       "      <td>2.0</td>\n",
       "      <td>244.0</td>\n",
       "    </tr>\n",
       "  </tbody>\n",
       "</table>\n",
       "</div>"
      ],
      "text/plain": [
       "           count        mean         std     min   25%  50%   75%     max\n",
       "column_a  1755.0    0.347009   70.727711  -883.0  -4.0 -1.0   3.0   462.0\n",
       "column_b  1755.0   -8.490598   54.845396  -382.0  -2.0  0.0   2.0   438.0\n",
       "column_c  1755.0 -161.751567  588.668288 -3617.0 -17.0  3.0  14.0   418.0\n",
       "column_d  1755.0    5.307692   72.444292  -824.0  -4.0  2.0   5.0  1016.0\n",
       "column_e  1755.0   -2.549288   78.112462  -725.0  -8.0 -2.0   5.0   476.0\n",
       "column_f  1755.0   -2.021652   22.357966  -248.0  -3.0 -1.0   2.0   244.0"
      ]
     },
     "metadata": {},
     "output_type": "display_data"
    },
    {
     "name": "stdout",
     "output_type": "stream",
     "text": [
      "\n",
      "lp5 - Stats\n"
     ]
    },
    {
     "data": {
      "application/vnd.microsoft.datawrangler.viewer.v0+json": {
       "columns": [
        {
         "name": "index",
         "rawType": "object",
         "type": "string"
        },
        {
         "name": "count",
         "rawType": "float64",
         "type": "float"
        },
        {
         "name": "mean",
         "rawType": "float64",
         "type": "float"
        },
        {
         "name": "std",
         "rawType": "float64",
         "type": "float"
        },
        {
         "name": "min",
         "rawType": "float64",
         "type": "float"
        },
        {
         "name": "25%",
         "rawType": "float64",
         "type": "float"
        },
        {
         "name": "50%",
         "rawType": "float64",
         "type": "float"
        },
        {
         "name": "75%",
         "rawType": "float64",
         "type": "float"
        },
        {
         "name": "max",
         "rawType": "float64",
         "type": "float"
        }
       ],
       "ref": "06fef802-5b08-4143-aa02-fecbda6510f6",
       "rows": [
        [
         "column_a",
         "2460.0",
         "0.08130081300813008",
         "61.002329103854024",
         "-883.0",
         "-5.0",
         "-2.0",
         "2.0",
         "462.0"
        ],
        [
         "column_b",
         "2460.0",
         "-6.619918699186992",
         "47.44967850505757",
         "-382.0",
         "-5.0",
         "0.0",
         "2.0",
         "438.0"
        ],
        [
         "column_c",
         "2460.0",
         "-92.17235772357724",
         "509.21197358908654",
         "-3617.0",
         "-5.0",
         "10.0",
         "74.0",
         "418.0"
        ],
        [
         "column_d",
         "2460.0",
         "1.2101626016260163",
         "65.80996692770175",
         "-824.0",
         "-9.0",
         "0.0",
         "5.0",
         "1016.0"
        ],
        [
         "column_e",
         "2460.0",
         "-5.078048780487805",
         "71.85582978682417",
         "-725.0",
         "-17.0",
         "-5.0",
         "3.0",
         "756.0"
        ],
        [
         "column_f",
         "2460.0",
         "-3.348373983739837",
         "19.966548310662592",
         "-248.0",
         "-6.0",
         "-2.0",
         "1.0",
         "244.0"
        ]
       ],
       "shape": {
        "columns": 8,
        "rows": 6
       }
      },
      "text/html": [
       "<div>\n",
       "<style scoped>\n",
       "    .dataframe tbody tr th:only-of-type {\n",
       "        vertical-align: middle;\n",
       "    }\n",
       "\n",
       "    .dataframe tbody tr th {\n",
       "        vertical-align: top;\n",
       "    }\n",
       "\n",
       "    .dataframe thead th {\n",
       "        text-align: right;\n",
       "    }\n",
       "</style>\n",
       "<table border=\"1\" class=\"dataframe\">\n",
       "  <thead>\n",
       "    <tr style=\"text-align: right;\">\n",
       "      <th></th>\n",
       "      <th>count</th>\n",
       "      <th>mean</th>\n",
       "      <th>std</th>\n",
       "      <th>min</th>\n",
       "      <th>25%</th>\n",
       "      <th>50%</th>\n",
       "      <th>75%</th>\n",
       "      <th>max</th>\n",
       "    </tr>\n",
       "  </thead>\n",
       "  <tbody>\n",
       "    <tr>\n",
       "      <th>column_a</th>\n",
       "      <td>2460.0</td>\n",
       "      <td>0.081301</td>\n",
       "      <td>61.002329</td>\n",
       "      <td>-883.0</td>\n",
       "      <td>-5.0</td>\n",
       "      <td>-2.0</td>\n",
       "      <td>2.0</td>\n",
       "      <td>462.0</td>\n",
       "    </tr>\n",
       "    <tr>\n",
       "      <th>column_b</th>\n",
       "      <td>2460.0</td>\n",
       "      <td>-6.619919</td>\n",
       "      <td>47.449679</td>\n",
       "      <td>-382.0</td>\n",
       "      <td>-5.0</td>\n",
       "      <td>0.0</td>\n",
       "      <td>2.0</td>\n",
       "      <td>438.0</td>\n",
       "    </tr>\n",
       "    <tr>\n",
       "      <th>column_c</th>\n",
       "      <td>2460.0</td>\n",
       "      <td>-92.172358</td>\n",
       "      <td>509.211974</td>\n",
       "      <td>-3617.0</td>\n",
       "      <td>-5.0</td>\n",
       "      <td>10.0</td>\n",
       "      <td>74.0</td>\n",
       "      <td>418.0</td>\n",
       "    </tr>\n",
       "    <tr>\n",
       "      <th>column_d</th>\n",
       "      <td>2460.0</td>\n",
       "      <td>1.210163</td>\n",
       "      <td>65.809967</td>\n",
       "      <td>-824.0</td>\n",
       "      <td>-9.0</td>\n",
       "      <td>0.0</td>\n",
       "      <td>5.0</td>\n",
       "      <td>1016.0</td>\n",
       "    </tr>\n",
       "    <tr>\n",
       "      <th>column_e</th>\n",
       "      <td>2460.0</td>\n",
       "      <td>-5.078049</td>\n",
       "      <td>71.855830</td>\n",
       "      <td>-725.0</td>\n",
       "      <td>-17.0</td>\n",
       "      <td>-5.0</td>\n",
       "      <td>3.0</td>\n",
       "      <td>756.0</td>\n",
       "    </tr>\n",
       "    <tr>\n",
       "      <th>column_f</th>\n",
       "      <td>2460.0</td>\n",
       "      <td>-3.348374</td>\n",
       "      <td>19.966548</td>\n",
       "      <td>-248.0</td>\n",
       "      <td>-6.0</td>\n",
       "      <td>-2.0</td>\n",
       "      <td>1.0</td>\n",
       "      <td>244.0</td>\n",
       "    </tr>\n",
       "  </tbody>\n",
       "</table>\n",
       "</div>"
      ],
      "text/plain": [
       "           count       mean         std     min   25%   50%   75%     max\n",
       "column_a  2460.0   0.081301   61.002329  -883.0  -5.0  -2.0   2.0   462.0\n",
       "column_b  2460.0  -6.619919   47.449679  -382.0  -5.0   0.0   2.0   438.0\n",
       "column_c  2460.0 -92.172358  509.211974 -3617.0  -5.0  10.0  74.0   418.0\n",
       "column_d  2460.0   1.210163   65.809967  -824.0  -9.0   0.0   5.0  1016.0\n",
       "column_e  2460.0  -5.078049   71.855830  -725.0 -17.0  -5.0   3.0   756.0\n",
       "column_f  2460.0  -3.348374   19.966548  -248.0  -6.0  -2.0   1.0   244.0"
      ]
     },
     "metadata": {},
     "output_type": "display_data"
    },
    {
     "data": {
      "image/png": "[encoded data removed]",
      "text/plain": [
       "<Figure size 400x300 with 2 Axes>"
      ]
     },
     "metadata": {},
     "output_type": "display_data"
    },
    {
     "data": {
      "image/png": "[encoded data removed]",
      "text/plain": [
       "<Figure size 400x300 with 2 Axes>"
      ]
     },
     "metadata": {},
     "output_type": "display_data"
    },
    {
     "data": {
      "image/png": "[encoded data removed]",
      "text/plain": [
       "<Figure size 400x300 with 2 Axes>"
      ]
     },
     "metadata": {},
     "output_type": "display_data"
    },
    {
     "data": {
      "image/png": "[encoded data removed]",
      "text/plain": [
       "<Figure size 400x300 with 2 Axes>"
      ]
     },
     "metadata": {},
     "output_type": "display_data"
    },
    {
     "data": {
      "image/png": "[encoded data removed]",
      "text/plain": [
       "<Figure size 400x300 with 2 Axes>"
      ]
     },
     "metadata": {},
     "output_type": "display_data"
    },
    {
     "data": {
      "image/png": "[encoded data removed]",
      "text/plain": [
       "<Figure size 1200x600 with 6 Axes>"
      ]
     },
     "metadata": {},
     "output_type": "display_data"
    },
    {
     "data": {
      "image/png": "[encoded data removed]",
      "text/plain": [
       "<Figure size 1200x600 with 6 Axes>"
      ]
     },
     "metadata": {},
     "output_type": "display_data"
    },
    {
     "data": {
      "image/png": "[encoded data removed]",
      "text/plain": [
       "<Figure size 1200x600 with 6 Axes>"
      ]
     },
     "metadata": {},
     "output_type": "display_data"
    },
    {
     "data": {
      "image/png": "[encoded data removed]",
      "text/plain": [
       "<Figure size 1200x600 with 6 Axes>"
      ]
     },
     "metadata": {},
     "output_type": "display_data"
    },
    {
     "data": {
      "image/png": "[encoded data removed]",
      "text/plain": [
       "<Figure size 1200x600 with 6 Axes>"
      ]
     },
     "metadata": {},
     "output_type": "display_data"
    },
    {
     "data": {
      "image/png": "[encoded data removed]",
      "text/plain": [
       "<Figure size 800x400 with 2 Axes>"
      ]
     },
     "metadata": {},
     "output_type": "display_data"
    },
    {
     "data": {
      "image/png": "[encoded data removed]",
      "text/plain": [
       "<Figure size 800x400 with 2 Axes>"
      ]
     },
     "metadata": {},
     "output_type": "display_data"
    },
    {
     "name": "stdout",
     "output_type": "stream",
     "text": [
      "[INFO] lp1 - Outlier ratio (|z| > 3): 3.04%\n",
      "[INFO] lp2 - Outlier ratio (|z| > 3): 1.68%\n",
      "[INFO] lp3 - Outlier ratio (|z| > 3): 1.68%\n",
      "[INFO] lp4 - Outlier ratio (|z| > 3): 2.78%\n",
      "[INFO] lp5 - Outlier ratio (|z| > 3): 2.49%\n",
      "[INFO] lp1 normalized and saved → ../data/normalized/lp1_norm.csv\n",
      "[INFO] lp2 normalized and saved → ../data/normalized/lp2_norm.csv\n",
      "[INFO] lp3 normalized and saved → ../data/normalized/lp3_norm.csv\n",
      "[INFO] lp4 normalized and saved → ../data/normalized/lp4_norm.csv\n",
      "[INFO] lp5 normalized and saved → ../data/normalized/lp5_norm.csv\n",
      "[INFO] All datasets normalized, saved in /data/normalized.\n",
      "[INFO] Cleaned datasets saved to /data/cleaned/\n"
     ]
    }
   ],
   "source": [
    "# --- 1. Imports ---\n",
    "import pandas as pd\n",
    "import numpy as np\n",
    "import seaborn as sns\n",
    "import matplotlib.pyplot as plt\n",
    "from pathlib import Path\n",
    "\n",
    "SEED = 42\n",
    "np.random.seed(SEED)\n",
    "\n",
    "plt.style.use(\"seaborn-v0_8-darkgrid\")\n",
    "pd.set_option(\"display.max_columns\", None)\n",
    "\n",
    "# --- 2. Paths ---\n",
    "data_path = Path(\"../data\")\n",
    "files = {\n",
    "    \"lp1\": data_path / \"lp1_data.csv\",\n",
    "    \"lp2\": data_path / \"lp2_data.csv\",\n",
    "    \"lp3\": data_path / \"lp3_data.csv\",\n",
    "    \"lp4\": data_path / \"lp4_data.csv\",\n",
    "    \"lp5\": data_path / \"lp5_data.csv\",\n",
    "}\n",
    "\n",
    "# --- 3. Load datasets ---\n",
    "dataframes = {}\n",
    "for key, path in files.items():\n",
    "    df = pd.read_csv(path)\n",
    "    dataframes[key] = df\n",
    "    print(f\"[INFO] {key}: {df.shape[0]} sample x {df.shape[1]} features\")\n",
    "\n",
    "# --- 4. Summary ---\n",
    "summary = []\n",
    "for key, df in dataframes.items():\n",
    "    summary.append({\n",
    "        \"Dataset\": key,\n",
    "        \"Rows\": df.shape[0],\n",
    "        \"Columns\": df.shape[1],\n",
    "        \"Nan %\": df.isna().mean().mean() * 100,\n",
    "        \"Numeric cols\": df.select_dtypes(include=np.number).shape[1],\n",
    "        \"Categorical cols\": df.select_dtypes(exclude=np.number).shape[1],\n",
    "    })\n",
    "\n",
    "pd.DataFrame(summary)\n",
    "\n",
    "# --- 5. Feature names and dtypes ---\n",
    "for key, df in dataframes.items():\n",
    "    print(f\"\\n{key} - First rows\")\n",
    "    display(df.head())\n",
    "    print(f\"Dtypes:\\n{df.dtypes.value_counts()}\")\n",
    "\n",
    "# --- 6. Handle name inconsistencies ---\n",
    "for key, df in dataframes.items():\n",
    "    df.columns = df.columns.str.strip().str.lower().str.replace(\" \", \"_\")\n",
    "\n",
    "# --- 7. Stats ---\n",
    "for key, df in dataframes.items():\n",
    "    print(f\"\\n{key} - Stats\")\n",
    "    display(df.describe().T)\n",
    "\n",
    "# --- 8. Correlation heatmap ---\n",
    "for key, df in dataframes.items():\n",
    "    num_df = df.select_dtypes(include=np.number)\n",
    "    if num_df.shape[1] > 1:\n",
    "        plt.figure(figsize=(4,3))\n",
    "        sns.heatmap(num_df.corr(), cmap=\"coolwarm\", center=0)\n",
    "        plt.title(f\"Correlation Heatmap — {key}\")\n",
    "        plt.show()\n",
    "\n",
    "# --- 9. Distribution of features ---\n",
    "for key, df in dataframes.items():\n",
    "    num_df = df.select_dtypes(include=np.number)\n",
    "    cols = num_df.columns\n",
    "    num_df[cols].hist(bins=30, figsize=(12, 6))\n",
    "    plt.suptitle(f\"{key}: Feature distributions\", fontsize=14)\n",
    "    plt.show()\n",
    "\n",
    "# --- 10. Compare mean +/- std across datasets ---\n",
    "compare_mean = pd.DataFrame({\n",
    "    key: df.select_dtypes(include=np.number).mean()\n",
    "    for key, df in dataframes.items()\n",
    "})\n",
    "compare_std = pd.DataFrame({\n",
    "    key: df.select_dtypes(include=np.number).std()\n",
    "    for key, df in dataframes.items()\n",
    "})\n",
    "\n",
    "plt.figure(figsize=(8,4))\n",
    "sns.heatmap(compare_mean.T, cmap=\"crest\")\n",
    "plt.title(\"Mean comparison across datasets\")\n",
    "plt.show()\n",
    "\n",
    "plt.figure(figsize=(8,4))\n",
    "sns.heatmap(compare_std.T, cmap=\"mako\")\n",
    "plt.title(\"Standard deviation comparison across datasets\")\n",
    "plt.show()\n",
    "\n",
    "# --- 11. Outlier detection (quick z-score check) --- \n",
    "from scipy.stats import zscore\n",
    "\n",
    "for key, df in dataframes.items():\n",
    "    num_df = df.select_dtypes(include=np.number)\n",
    "    zscore_ = np.abs(zscore(num_df, nan_policy='omit'))\n",
    "    outlier_ratio = (zscore_ > 3).mean().mean()\n",
    "    print(f\"[INFO] {key} - Outlier ratio (|z| > 3): {outlier_ratio:.2%}\")\n",
    "\n",
    "# --- 12. Normalization and normalized data saving\n",
    "from sklearn.preprocessing import StandardScaler\n",
    "\n",
    "norm_path = Path(\"../data/normalized\")\n",
    "norm_path.mkdir(exist_ok=True)\n",
    "\n",
    "scalers = {}\n",
    "for key, df in dataframes.items():\n",
    "    num_df = df.select_dtypes(include=np.number) # they're all numeric but let's keep distinction \n",
    "\n",
    "    # Fit scaler\n",
    "    scaler = StandardScaler()\n",
    "    scaled_data = scaler.fit_transform(num_df)\n",
    "\n",
    "    # Reconstruct \n",
    "    normalized_df = pd.DataFrame(scaled_data, columns=num_df.columns)\n",
    "\n",
    "    # Save\n",
    "    normalized_df.to_csv(norm_path / f\"{key}_norm.csv\", index=False)\n",
    "    scalers[key] = scaler\n",
    "    print(f\"[INFO] {key} normalized and saved → {norm_path}/{key}_norm.csv\")\n",
    "print(\"[INFO] All datasets normalized, saved in /data/normalized.\")\n",
    "    \n",
    "\n",
    "# --- 13. Save cleaned & stdized data ---\n",
    "clean_path = Path(\"../data/cleaned\")\n",
    "clean_path.mkdir(exist_ok=True)\n",
    "\n",
    "for k, df in dataframes.items():\n",
    "    df.to_csv(clean_path / f\"{k}_clean.csv\", index=False)\n",
    "\n",
    "print(\"[INFO] Cleaned datasets saved to /data/cleaned/\")"
   ]
  }
 ],
 "metadata": {
  "kernelspec": {
   "display_name": "3.13",
   "language": "python",
   "name": "python3"
  },
  "language_info": {
   "codemirror_mode": {
    "name": "ipython",
    "version": 3
   },
   "file_extension": ".py",
   "mimetype": "text/x-python",
   "name": "python",
   "nbconvert_exporter": "python",
   "pygments_lexer": "ipython3",
   "version": "3.13.7"
  }
 },
 "nbformat": 4,
 "nbformat_minor": 5
}
